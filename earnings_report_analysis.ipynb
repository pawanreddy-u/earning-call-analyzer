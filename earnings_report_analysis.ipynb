{
  "cells": [
    {
      "cell_type": "code",
      "execution_count": 59,
      "metadata": {
        "colab": {
          "base_uri": "https://localhost:8080/"
        },
        "id": "8L81FPCsBK4t",
        "outputId": "7670d360-1b4c-4752-b409-b1c74b92375e"
      },
      "outputs": [],
      "source": [
        "# pip install pypdf2\n",
        "# pip install openai"
      ]
    },
    {
      "cell_type": "code",
      "execution_count": 72,
      "metadata": {
        "id": "EsGo05cQCH8Z"
      },
      "outputs": [],
      "source": [
        "from PyPDF2 import PdfReader\n",
        "\n",
        "def extract_text_pdf(file_location,num_pages=None):\n",
        "    # Read the file utilizing the PyPDF library.\n",
        "    reader = PdfReader(file_location)\n",
        "    # Obtain the total number of pages as an integer\n",
        "    pages = len(reader.pages)\n",
        "    extracted_text_lst = []\n",
        "    if num_pages:\n",
        "        total_pages = range(num_pages)\n",
        "    else:\n",
        "        total_pages = range(pages)\n",
        "    # Extract the text from each page\n",
        "    #print(len(total_pages))\n",
        "    for page, _ in enumerate(total_pages):\n",
        "        read = reader.pages[page]\n",
        "        text = read.extract_text()\n",
        "        extracted_text_lst.append(text)\n",
        "    extracted_text = \" \".join(extracted_text_lst)\n",
        "    return extracted_text\n"
      ]
    },
    {
      "cell_type": "code",
      "execution_count": 73,
      "metadata": {
        "id": "FVugpORuDHXH"
      },
      "outputs": [],
      "source": [
        "import os\n",
        "from openai import OpenAI\n",
        "OPENAI_API_KEY = \"sk-proj-xxxxxxxxxxxxxxxx\" # set the right key"
      ]
    },
    {
      "cell_type": "code",
      "execution_count": 74,
      "metadata": {
        "id": "laVpoRrcICT-"
      },
      "outputs": [],
      "source": [
        "import os\n",
        "def generate_response(system_prompt,content,model=\"gpt-4o\"):\n",
        "    client = OpenAI(api_key=os.getenv(OPENAI_API_KEY)) # set the right key\n",
        "    response = client.chat.completions.create(\n",
        "        model=model,\n",
        "        messages=[\n",
        "            {\"role\": \"system\", \"content\": system_prompt},\n",
        "            {\"role\": \"user\", \"content\": content}\n",
        "        ]\n",
        "        )\n",
        "    return response.choices[0].message.content\n"
      ]
    },
    {
      "cell_type": "code",
      "execution_count": 75,
      "metadata": {},
      "outputs": [],
      "source": [
        "def sort_quarter_dict(quarter_dict):\n",
        "    def quarter_key(item):\n",
        "        quarter, year = item[0].split('_')  # Split 'q4_2024' into 'q4' and '2024'\n",
        "        quarter_num = int(quarter[1])       # Extract '4' from 'q4'\n",
        "        year_num = int(year)                # Convert '2024' to integer\n",
        "        return (year_num, quarter_num)      # Sort by year first, then quarter\n",
        "\n",
        "    sorted_items = sorted(quarter_dict.items(), key=quarter_key, reverse=False)\n",
        "    return dict(sorted_items)"
      ]
    },
    {
      "cell_type": "code",
      "execution_count": 76,
      "metadata": {},
      "outputs": [],
      "source": [
        "def extract_quarter_info(files,prompt_loc = \"prompts/extract_quarter.prompt\"):\n",
        "    files_info = {}\n",
        "    for file_name in files:\n",
        "        #passing the first few pages to extract the quarter and year\n",
        "        with open(prompt_loc, \"r\") as prompt_file:\n",
        "            system_prompt = prompt_file.read()\n",
        "        content = extract_text_pdf(file_name,num_pages=3)\n",
        "        result = generate_response(system_prompt,content)\n",
        "        #print(file_name,result)\n",
        "        files_info[result] = file_name\n",
        "    return sort_quarter_dict(files_info)\n"
      ]
    },
    {
      "cell_type": "code",
      "execution_count": 77,
      "metadata": {},
      "outputs": [],
      "source": [
        "def get_prompt(prompt_loc):\n",
        "    with open(prompt_loc, \"r\") as prompt_file:\n",
        "        prompt = prompt_file.read()\n",
        "    return prompt"
      ]
    },
    {
      "cell_type": "code",
      "execution_count": 80,
      "metadata": {},
      "outputs": [],
      "source": [
        "\n",
        "def analyze_earnings(files_info,initial_prompt_loc,multi_earnings_prompt,summarize_prompt):\n",
        "    for index,file in enumerate(files_info.values()):\n",
        "        if index == 0:\n",
        "            print(index)\n",
        "            #passing the first few pages to extract the quarter and year\n",
        "            system_prompt = get_prompt(initial_prompt_loc)\n",
        "            content = extract_text_pdf(file)\n",
        "            quarter_response = generate_response(system_prompt = system_prompt,content = content,model=\"gpt-4o\")\n",
        "        elif (index>0)&(index<len(files_info.values())-1):\n",
        "            #intermediate earnings analysis\n",
        "            print('intermediate',index)\n",
        "            current_earnings_content = extract_text_pdf(file)\n",
        "            content = f\"Previous quarter pointers:{quarter_response}. Current quarterly call transcript:{current_earnings_content}\"\n",
        "            system_prompt = get_prompt(multi_earnings_prompt)\n",
        "            quarter_response = generate_response(system_prompt = system_prompt,content = content,model=\"gpt-4o\")\n",
        "        else:\n",
        "            #final analysis\n",
        "            print(\"final\",index)\n",
        "            current_earnings_content = extract_text_pdf(file)\n",
        "            content = f\"Previous quarter pointers:{quarter_response}. Current quarterly call transcript:{current_earnings_content}\"\n",
        "            system_prompt = get_prompt(summarize_prompt)\n",
        "            quarter_response = generate_response(system_prompt = system_prompt,content = content,model=\"gpt-4o\")\n",
        "    return quarter_response"
      ]
    },
    {
      "cell_type": "code",
      "execution_count": null,
      "metadata": {},
      "outputs": [],
      "source": [
        "files = ['transcripts/apr_laurus.pdf', 'transcripts/jan_laurus.pdf', 'transcripts/Jul_laurus.pdf', 'transcripts/oct_laurus.pdf']\n",
        "initial_prompt_loc = 'prompts/analyse_earnings.prompt'\n",
        "multi_earnings_prompt = 'prompts/analyze_multiple_earnings.prompt'\n",
        "summarize_prompt = 'prompts/summarize.prompt'\n",
        "files_info = extract_quarter_info(files=files)\n",
        "print(files_info)\n",
        "result = analyze_earnings(files_info,initial_prompt_loc,multi_earnings_prompt,summarize_prompt)"
      ]
    },
    {
      "cell_type": "code",
      "execution_count": 83,
      "metadata": {},
      "outputs": [
        {
          "name": "stdout",
          "output_type": "stream",
          "text": [
            "{'q3_2024': 'transcripts/jan_laurus.pdf', 'q4_2024': 'transcripts/apr_laurus.pdf', 'q1_2025': 'transcripts/Jul_laurus.pdf', 'q2_2025': 'transcripts/oct_laurus.pdf'}\n"
          ]
        }
      ],
      "source": [
        "print(files_info)\n"
      ]
    },
    {
      "cell_type": "code",
      "execution_count": 82,
      "metadata": {},
      "outputs": [
        {
          "name": "stdout",
          "output_type": "stream",
          "text": [
            "# Pre-Earnings Call Analysis\n",
            "\n",
            "### 1. **Quarterly Results vs Historical Claims Analysis**\n",
            "\n",
            "**Order Book Confidence for Q4 FY '24:**\n",
            "   - **Status:** Fully Achieved\n",
            "   - **Supporting Metrics:** Positive contributions from all businesses, healthy order book with volume increase.\n",
            "   - **Deviation:** None noted.\n",
            "\n",
            "**EBITDA Margin Target >20% for FY '25:**\n",
            "   - **Status:** Still Pending\n",
            "   - **Updated Timeline:** FY '25\n",
            "   - **Notes:** Need improved asset utilization; current margins hindered by operational deleverage.\n",
            "\n",
            "**Improved H2 vs H1 FY '24:**\n",
            "   - **Status:** Fully Achieved\n",
            "   - **Supporting Metrics:** Sequential improvement due to strategic initiatives in critical divisions.\n",
            "\n",
            "**Animal Health Revenue Peak by FY '26:**\n",
            "   - **Status:** Extended to FY '27\n",
            "   - **Explanation:** Delays due to technical validation requirements.\n",
            "   - **Deviation:** Timeline extended by one fiscal year.\n",
            "\n",
            "### Patterns in Historical Claims:\n",
            "- **Consistently Achieved:** Revenue enhancements, order book management.\n",
            "- **Partially Achieved or Pending:** EBITDA margins, long-term growth targets with revised timelines.\n",
            "- **Not Achieved:** Specific segment revenue targets under competitive/regulatory pressures.\n",
            "\n",
            "### 2. **Quarter-over-Quarter Progress Assessment**\n",
            "\n",
            "- **Key Metrics Evolution:** Margins improved in Q2 but remain below target.\n",
            "- **Strategic Initiatives Execution:** Continued investments in CDMO and R&D projects, with expected long-term returns.\n",
            "- **Market Share Movement:** Stable, focused on sustainable growth without aggressive pricing.\n",
            "- **Working Capital Management:** Impacted by long lead times in CDMO projects; high inventory levels noted.\n",
            "- **Capital Allocation Effectiveness:** Capex focused on Bio, CDMO enhancements.\n",
            "- **Operational Efficiency Improvements:** Delays persist in leveraging new investments; expected progress anticipated in H2 FY '25.\n",
            "\n",
            "### 3. **Strategic Question Bank Development**\n",
            "\n",
            "- **Financial Metrics:** What are the significant drivers of anticipated higher EBITDA margins in Q3 and Q4?\n",
            "- **Project Implementation Delays:** Have any additional steps been taken to accelerate the Animal Health project timelines?\n",
            "- **Strategic Direction:** How do management foresee shifting industry dynamics affecting ongoing investments?\n",
            "- **Competitive Response:** Are there additional segments targeted for bringing new therapeutics such as Lenacapavir into the fold?\n",
            "- **Risk Mitigation:** Is there a contingency plan if similar delays occur in other strategic projects?\n",
            "\n",
            "### 4. **Investment Thesis Analysis**\n",
            "\n",
            "**Core Thesis Validation Points:**\n",
            "- **Market Position:** Strong in CDMO but challenged in ARV due to regulatory and competitive hurdles.\n",
            "- **Competitive Advantage:** Sustained by technological investments, but timelines for revenue growth are critical.\n",
            "- **Growth Runway:** Weakness in immediate profitability due to capital-intensive projects; however, long-term growth potential remains.\n",
            "- **Management Execution:** Good operational alignment but hindered by delays in capturing margins.\n",
            "- **Financial Health:** Debt levels and operational cash flow under pressure; capex management remains a top priority.\n",
            "- **Valuation Considerations:** Historically lower EBITDA margins need to align with forecasts to uphold current valuations.\n",
            "\n",
            "### 5. **Risk Assessment Framework**\n",
            "\n",
            "#### Company-Specific Risks:\n",
            "- **Execution Track Record:** Delays in product launches impacting short-term results.\n",
            "- **Balance Sheet Strength:** High net debt to EBITDA ratio is notable; balancing capex investments and returns is critical.\n",
            "- **Customer Concentration:** Particularly in ARV segment—demands diversification.\n",
            "- **Technology/Product Risks:** Risk of execution dragging due to the complexities in new technology adoptions.\n",
            "\n",
            "#### Industry Risks:\n",
            "- **Competitive Intensity:** Rising challenges in ARV and CDMO markets demand innovative edge.\n",
            "- **Regulatory Changes:** Potentially affecting entry and expansion in certain therapeutic categories.\n",
            "- **Market Saturation:** Especially in established segments like ARV requiring fresh growth avenues.\n",
            "- **Economic Sensitivity:** Operational delays can stretch financial estimates impacting future growth.\n",
            "\n",
            "### 6. **Investment Recommendation Components**\n",
            "\n",
            "**Quantitative Factors:**\n",
            "- **Valuation Metrics:** Need EBITDA margins to reflect improvements as claimed.\n",
            "- **Growth Rates:** Hinged on second-half performance with current market dynamics challenging.\n",
            "- **Return Metrics:** Current return on capital employed not aligned with long-term company forecasts.\n",
            "\n",
            "**Qualitative Factors:**\n",
            "- **Management Credibility:** Hinged on delivering EBITDA improvements.\n",
            "- **Competitive Positioning:** Lacks urgency in addressing new drug market shifts.\n",
            "- **Innovation Pipeline:** Progressing, yet constrained by execution bottlenecks.\n",
            "- **Market Opportunity:** Presence in high-demand therapeutic areas but needs expedited growth to maintain advantage.\n",
            "\n",
            "### Balanced Analysis:\n",
            "\n",
            "**Positive Trends:**\n",
            "- Consistent revenue stream, well-developed order book.\n",
            "- Strategic investments poised for future growth.\n",
            "\n",
            "**Negative Trends:**\n",
            "- Persistent margin pressure and operating leverage challenges.\n",
            "- Delays in delivering on extended commitments.\n",
            "\n",
            "**Risks and Opportunities:**\n",
            "- **Opportunities:** Heightened customer engagement, strategic segment diversity.\n",
            "- **Risks:** Operational efficiency in new projects and rising debt levels.\n",
            "\n",
            "**Investment Stance:**\n",
            "- **Hold:** Until visibility on improved EBITDA and cash flow realizations become consistent.\n",
            "- **Monitoring Metrics:** EBITDA margin progression, capex impact, net debt fluctuations.\n",
            "- **Key Catalysts for Change:** Commercial launch of ongoing pipeline projects, successful segment expansions. \n",
            "\n",
            "---\n",
            "\n",
            "By delivering a comprehensive analysis that covers historical comparisons, quarterly assessments, strategic questioning, thesis validation, risk evaluation, and investment projection, this analysis positions stakeholders to make informed pre-call investment decisions with Laurus Labs.\n"
          ]
        }
      ],
      "source": [
        "print(result)"
      ]
    },
    {
      "cell_type": "code",
      "execution_count": 3,
      "metadata": {},
      "outputs": [
        {
          "name": "stdout",
          "output_type": "stream",
          "text": [
            "3\n",
            "3\n",
            "3\n",
            "3\n",
            "{'q2_2024': 'transcripts/oct_laurus.pdf', 'q3_2024': 'transcripts/jan_laurus.pdf', 'q4_2024': 'transcripts/apr_laurus.pdf', 'q1_2025': 'transcripts/Jul_laurus.pdf'}\n",
            "0\n",
            "18\n",
            "intermediate 1\n",
            "19\n",
            "intermediate 2\n",
            "18\n",
            "final 3\n",
            "16\n"
          ]
        }
      ],
      "source": [
        "from main import analyse_earnings\n",
        "from utils import extract_quarter_info\n",
        "\n",
        "files = ['transcripts/apr_laurus.pdf', 'transcripts/jan_laurus.pdf', 'transcripts/Jul_laurus.pdf', 'transcripts/oct_laurus.pdf']\n",
        "initial_prompt_loc = 'prompts/analyse_earnings.prompt'\n",
        "multi_earnings_prompt = 'prompts/analyze_multiple_earnings.prompt'\n",
        "summarize_prompt = 'prompts/summarize.prompt'\n",
        "\n",
        "files_info = extract_quarter_info(files=files)\n",
        "print(files_info)\n",
        "result = analyse_earnings(files_info,initial_prompt_loc,multi_earnings_prompt,summarize_prompt)"
      ]
    },
    {
      "cell_type": "code",
      "execution_count": 4,
      "metadata": {},
      "outputs": [
        {
          "name": "stdout",
          "output_type": "stream",
          "text": [
            "**Pre-Earnings Call Analysis**\n",
            "\n",
            "### Quarterly Results vs. Historical Claims Analysis\n",
            "\n",
            "#### 1. **Revenue/Margin Targets:**\n",
            "   - **Management Claim**: Achieve 20% EBITDA margin for FY '25.\n",
            "     - **Status**: Pending, with current margins at 14%. Management remains optimistic about improvements in H2 FY '24.\n",
            "     - **Deviation**: Current margins below expectations, but management's optimistic outlook on future performance suggests confidence in achieving targets.\n",
            "\n",
            "#### 2. **Debt Levels:**\n",
            "   - **Claim**: Maintain debt below INR3,000 crore.\n",
            "     - **Status**: Achieved, with current net debt at INR2,633 crore, below the threshold.\n",
            "\n",
            "#### 3. **CDMO Performance:**\n",
            "   - **Claim**: Optimize long manufacturing lead cycles.\n",
            "     - **Status**: Partially achieved with ongoing improvements noted. Delays attributed to complex projects in this quarter.\n",
            "\n",
            "#### 4. **Market Expansion Efforts:**\n",
            "   - **Claim**: Broadening formulations and geographic expansion.\n",
            "     - **Progress**: Mentioned focus on regulatory approvals that may allow market expansion.\n",
            "\n",
            "### Quarter-over-Quarter Progress Assessment\n",
            "\n",
            "#### 1. **Financial Metrics and Execution:**\n",
            "   - Despite a slight revenue growth of 1%, gross margins are maintained above 50%, indicating efficient cost control and favorable product mix.\n",
            "   - **Operational efficiency**: Consistent gross margin above 50% and EBITDA margin remains a point of concern but expected to improve in later quarters.\n",
            "\n",
            "#### 2. **Working Capital Management:**\n",
            "   - Intentions expressed to improve working capital efficiencies are mentioned, continuing a focus on long-term sustainability.\n",
            "\n",
            "#### 3. **Strategic Initiatives:**\n",
            "   - Strong emphasis on CDMO business development, particularly in preparation for new projects targeted for Q4 FY25.\n",
            "\n",
            "### Strategic Question Bank Development\n",
            "\n",
            "#### 1. **Guidance Variance:**\n",
            "   - What specific measures will be taken to improve EBITDA margins by H2 FY '24?\n",
            "\n",
            "#### 2. **Project Delays:**\n",
            "   - Can you provide more detailed timelines on the delayed project completions in the CDMO division, including any anticipated impacts on future quarters?\n",
            "\n",
            "#### 3. **Strategic Direction Changes:**\n",
            "   - Are there any shifts in strategic direction given the ongoing and future market dynamics?\n",
            "\n",
            "#### 4. **Risk Mitigation:**\n",
            "   - How are you addressing potential risks associated with the high leverage ratio?\n",
            "\n",
            "### Investment Thesis Analysis\n",
            "\n",
            "- **Market Position**: Leader in ARV APIs with strong oncology growth, but needs to maintain this amidst potential competitive pressures.\n",
            "- **Competitive Advantages**: Proven ability to maintain strong gross margins despite pricing pressure, leveraging technology and innovation in new therapeutic areas.\n",
            "- **Growth Clarity**: Expansion in CDMO with multiple engagements is promising but will require execution evidence.\n",
            "  \n",
            "### Risk Assessment Framework\n",
            "\n",
            "#### Company-Specific Risks:\n",
            "- **Execution Risk**: Continued delays in project implementations and high debt ratios.\n",
            "- **Customer Concentration**: Dependency on a few major partners, especially in ARV space.\n",
            "\n",
            "#### Industry Risks:\n",
            "- **Competitive Intensity**: ARV market pricing pressures continue; need for differentiation.\n",
            "- **Regulatory Risks**: Potential impacts of regulatory approvals on market expansion efforts.\n",
            "\n",
            "### Investment Recommendation Components\n",
            "\n",
            "#### Quantitative Factors:\n",
            "- Valuation metrics show that while growth potential exists, profitability metrics need close monitoring.\n",
            "\n",
            "#### Qualitative Factors:\n",
            "- Management credibility mixed due to repeated missed quarterly targets but showing long-term goal commitment.\n",
            "- Strong innovation pipeline with focus on CDMO expansion is promising.\n",
            "\n",
            "### Balanced Analysis\n",
            "\n",
            "- **Positive Trends**: Strong gross margin maintenance and focus on long-term CDMO growth.\n",
            "- **Negative Trends**: Short-term Q1 underperformance on EBITDA margins and need to improve execution speed.\n",
            "\n",
            "#### Monitoring Metrics:\n",
            "- **EBITDA Margin Progression**: Track progress toward the 20% target by FY '25.\n",
            "- **Debt Management**: Ensure net debt remains under INR3,000 crore.\n",
            "- **CDMO Pipeline Milestones**: Completion of new facilities and project validations.\n",
            "\n",
            "#### Key Catalysts & Risks:\n",
            "- **Catalysts**: Successful execution of CDMO projects and market expansion.\n",
            "- **Risks**: Execution delays, high leverage, and regulatory setbacks in new markets.\n",
            "\n",
            "The analysis presents a cautiously optimistic investment stance with a need for close monitoring of strategic initiatives and financial health indicators.\n"
          ]
        }
      ],
      "source": [
        "print(result)"
      ]
    },
    {
      "cell_type": "code",
      "execution_count": null,
      "metadata": {},
      "outputs": [],
      "source": []
    }
  ],
  "metadata": {
    "colab": {
      "provenance": []
    },
    "kernelspec": {
      "display_name": "Python 3",
      "name": "python3"
    },
    "language_info": {
      "codemirror_mode": {
        "name": "ipython",
        "version": 3
      },
      "file_extension": ".py",
      "mimetype": "text/x-python",
      "name": "python",
      "nbconvert_exporter": "python",
      "pygments_lexer": "ipython3",
      "version": "3.10.0"
    }
  },
  "nbformat": 4,
  "nbformat_minor": 0
}
